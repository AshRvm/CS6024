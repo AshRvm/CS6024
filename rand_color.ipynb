{
 "cells": [
  {
   "cell_type": "code",
   "execution_count": 1,
   "metadata": {},
   "outputs": [],
   "source": [
    "import random\n",
    "import numpy as np\n",
    "from urllib.request import urlopen\n",
    "import re"
   ]
  },
  {
   "cell_type": "code",
   "execution_count": 2,
   "metadata": {},
   "outputs": [],
   "source": [
    "random.seed(42)"
   ]
  },
  {
   "cell_type": "code",
   "execution_count": 3,
   "metadata": {},
   "outputs": [
    {
     "name": "stdout",
     "output_type": "stream",
     "text": [
      "[[1], [4], [], []]\n"
     ]
    }
   ],
   "source": [
    "a = []\n",
    "a.append([])\n",
    "a[0].append(1)\n",
    "a.append([])\n",
    "a.append([])\n",
    "a.append([])\n",
    "a[1].append(4)\n",
    "print(a)"
   ]
  },
  {
   "cell_type": "code",
   "execution_count": 12,
   "metadata": {},
   "outputs": [],
   "source": [
    "adj_list = []\n",
    "edge_len = []\n",
    "receptors = []\n",
    "transcription_factors = []\n",
    "\n",
    "proteins = {}\n",
    "curr_node = 0"
   ]
  },
  {
   "cell_type": "code",
   "execution_count": 13,
   "metadata": {},
   "outputs": [],
   "source": [
    "fpointer = open(\"./datasets/4932.protein.links.v11.5.txt\")\n",
    "for line in fpointer:\n",
    "    temp_list = line.split(\" \")\n",
    "    protein1 = temp_list[0].split(\".\")[1]\n",
    "    protein2 = temp_list[1].split(\".\")[1]\n",
    "    \n",
    "    if(protein1 not in proteins.keys()):\n",
    "        proteins[protein1] = curr_node\n",
    "        curr_node += 1\n",
    "        adj_list.append([])\n",
    "        edge_len.append([])\n",
    "    \n",
    "    if(protein2 not in proteins.keys()):\n",
    "        proteins[protein2] = curr_node\n",
    "        curr_node += 1\n",
    "        adj_list.append([])\n",
    "        edge_len.append([])\n",
    "    \n",
    "    adj_list[proteins[protein1]].append(proteins[protein2])\n",
    "    adj_list[proteins[protein2]].append(proteins[protein1])\n",
    "    \n",
    "    edge_len[proteins[protein1]].append(proteins[protein2])\n",
    "    edge_len[proteins[protein2]].append(proteins[protein1])\n",
    "    "
   ]
  },
  {
   "cell_type": "code",
   "execution_count": null,
   "metadata": {},
   "outputs": [],
   "source": [
    "# print(proteins)\n",
    "# print(proteins)\n",
    "# print(len(adj_list))"
   ]
  },
  {
   "cell_type": "code",
   "execution_count": null,
   "metadata": {},
   "outputs": [],
   "source": [
    "fout = open('./datasets/protein_list.txt','w')\n",
    "for protein in proteins.keys():\n",
    "    fout.write(f\"{protein}\\n\")\n",
    "fout.close()"
   ]
  },
  {
   "cell_type": "code",
   "execution_count": 15,
   "metadata": {},
   "outputs": [],
   "source": [
    "num_v = len(proteins)\n",
    "k = 8\n",
    "v = np.arange(num_v)\n",
    "v_colors = [random.randint(0,k-1) for i in v]"
   ]
  },
  {
   "cell_type": "code",
   "execution_count": null,
   "metadata": {},
   "outputs": [],
   "source": [
    "x = 0\n",
    "flag = 0\n",
    "for protein in proteins.keys():\n",
    "    if protein == \"YOL002C\":\n",
    "        flag = 1\n",
    "        continue\n",
    "    if flag == 0:\n",
    "        continue\n",
    "    x += 1\n",
    "    if x%5 == 0 :\n",
    "        print(x)\n",
    "    url = 'http://www.yeastract.com/view.php?existing=protein&proteinname=' + protein\n",
    "    html_content = str(urlopen(url).read())\n",
    "    matches = re.findall('Transcription&nbsp;Factor', html_content)\n",
    "    if len(matches) > 0:\n",
    "        transcription_factors.append(protein)\n",
    "        # print(protein, 'T')\n",
    "    matches = re.findall('receptor', html_content)\n",
    "    if len(matches) > 0:\n",
    "        receptors.append(protein)\n",
    "        # print(protein, 'R')\n",
    "\n",
    "# print(transcription_factors)"
   ]
  },
  {
   "cell_type": "code",
   "execution_count": 28,
   "metadata": {},
   "outputs": [],
   "source": [
    "f = open(\"transcriptors.txt\", \"w\")\n",
    "for t in transcription_factors:\n",
    "    f.write(t + \"\\n\")\n",
    "f.close()\n",
    "\n",
    "f = open(\"receptors.txt\", \"w\")\n",
    "for r in receptors:\n",
    "    f.write(r + \"\\n\")\n",
    "f.close()"
   ]
  },
  {
   "cell_type": "code",
   "execution_count": 9,
   "metadata": {},
   "outputs": [],
   "source": [
    "def dfs(transcription_factors, adj_list, edge_probs, visited_colors, next_in_path, num_visited_colors, u, k, max_length, curr_length):\n",
    "    visited_colors[v_colors[u]] = 1\n",
    "    num_visited_colors += 1\n",
    "    if(num_visited_colors == k and u in transcription_factors and curr_length > max_length):\n",
    "        max_length = curr_length\n",
    "        return True\n",
    "    \n",
    "    flag = False\n",
    "\n",
    "    for v in adj_list[u]:\n",
    "        if(visited_colors[v_colors[v]] == 1):\n",
    "            continue\n",
    "        flag = dfs(transcription_factors, adj_list, edge_probs, visited_colors, next_in_path, num_visited_colors, v, k, max_length, curr_length + edge_probs[u][v])\n",
    "        if(flag):\n",
    "            next_in_path[u] = v\n",
    "    \n",
    "    visited_colors[v_colors[u]] = 0\n",
    "    num_visited_colors -= 1\n",
    "\n",
    "    return flag \n"
   ]
  },
  {
   "cell_type": "code",
   "execution_count": null,
   "metadata": {},
   "outputs": [],
   "source": []
  }
 ],
 "metadata": {
  "kernelspec": {
   "display_name": "Python 3 (ipykernel)",
   "language": "python",
   "name": "python3"
  },
  "language_info": {
   "codemirror_mode": {
    "name": "ipython",
    "version": 3
   },
   "file_extension": ".py",
   "mimetype": "text/x-python",
   "name": "python",
   "nbconvert_exporter": "python",
   "pygments_lexer": "ipython3",
   "version": "3.9.13"
  }
 },
 "nbformat": 4,
 "nbformat_minor": 2
}
