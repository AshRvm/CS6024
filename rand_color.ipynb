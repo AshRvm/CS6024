{
 "cells": [
  {
   "cell_type": "code",
   "execution_count": 1,
   "metadata": {},
   "outputs": [],
   "source": [
    "import re\n",
    "import random\n",
    "import numpy as np\n",
    "from selenium import webdriver\n",
    "from urllib.request import urlopen\n",
    "from selenium.webdriver.common.by import By\n",
    "from sklearn.cluster import SpectralClustering"
   ]
  },
  {
   "cell_type": "code",
   "execution_count": 2,
   "metadata": {},
   "outputs": [],
   "source": [
    "random.seed(42)"
   ]
  },
  {
   "cell_type": "code",
   "execution_count": 3,
   "metadata": {},
   "outputs": [
    {
     "name": "stdout",
     "output_type": "stream",
     "text": [
      "[[1], [4], [], []]\n"
     ]
    }
   ],
   "source": [
    "a = []\n",
    "a.append([])\n",
    "a[0].append(1)\n",
    "a.append([])\n",
    "a.append([])\n",
    "a.append([])\n",
    "a[1].append(4)\n",
    "print(a)"
   ]
  },
  {
   "cell_type": "code",
   "execution_count": 8,
   "metadata": {},
   "outputs": [],
   "source": [
    "adj_list = []\n",
    "edge_len = []\n",
    "receptors = []\n",
    "transcription_factors = []\n",
    "\n",
    "similarity_matrix = np.zeros((6394, 6394))\n",
    "\n",
    "proteins = {}\n",
    "protein_list = []\n",
    "curr_node = 0"
   ]
  },
  {
   "cell_type": "code",
   "execution_count": 24,
   "metadata": {},
   "outputs": [],
   "source": [
    "fin = open(\"./datasets/4932.protein.links.v11.5.txt\")\n",
    "for line in fin:\n",
    "    temp_list = line.split(\" \")\n",
    "    protein1 = temp_list[0].split(\".\")[1]\n",
    "    protein2 = temp_list[1].split(\".\")[1]\n",
    "    \n",
    "    if(protein1 not in proteins.keys()):\n",
    "        protein_list.append(protein1)\n",
    "        proteins[protein1] = curr_node\n",
    "        curr_node += 1\n",
    "        adj_list.append([])\n",
    "        edge_len.append([])\n",
    "    \n",
    "    if(protein2 not in proteins.keys()):\n",
    "        protein_list.append(protein2)\n",
    "        proteins[protein2] = curr_node\n",
    "        curr_node += 1\n",
    "        adj_list.append([])\n",
    "        edge_len.append([])\n",
    "    \n",
    "    adj_list[proteins[protein1]].append(proteins[protein2])\n",
    "    adj_list[proteins[protein2]].append(proteins[protein1])\n",
    "    \n",
    "    edge_len[proteins[protein1]].append(proteins[protein2])\n",
    "    edge_len[proteins[protein2]].append(proteins[protein1])\n",
    "fin.close()\n",
    "    "
   ]
  },
  {
   "cell_type": "code",
   "execution_count": null,
   "metadata": {},
   "outputs": [],
   "source": [
    "driver = webdriver.Chrome(executable_path=\"D:\\chromedriver\\chromedriver.exe\")\n",
    "temp_set = set(protein_list)\n",
    "fout = open('./similarity.txt', 'a')\n",
    "\n",
    "for protein in protein_list[6200:]:\n",
    "    protein_index1 = proteins[protein]\n",
    "    print(protein_index1)\n",
    "    \n",
    "    driver.get(f\"https://spell.yeastgenome.org/search/show_results?search_string={protein}\")\n",
    "    driver.get(\"https://spell.yeastgenome.org/search/gene_results_as_text\")\n",
    "\n",
    "    try:\n",
    "        # driver.find_element(By.XPATH, \"//body/h1\")\n",
    "        raw_info = driver.find_element(By.XPATH, \"//body/pre\").text\n",
    "    except:\n",
    "        if(protein_index1 > 0):\n",
    "            fout.write('\\n')\n",
    "        fout.write(f\"{similarity_matrix[protein_index1, 0]}\")\n",
    "        for value in similarity_matrix[protein_index1, 1:] :\n",
    "            fout.write(f\",{value}\")\n",
    "        continue\n",
    "\n",
    "    info = raw_info.split(\" \")\n",
    "    \n",
    "    i = 17\n",
    "    while(i < len(info)):\n",
    "        protein2 = info[i]\n",
    "        if(protein2 not in temp_set):\n",
    "            i += 3\n",
    "            continue\n",
    "        protein_index2 = proteins[protein2]\n",
    "        score = info[i+2].split(\"\\n\")[0]\n",
    "        similarity_matrix[protein_index1][protein_index2] = float(score)\n",
    "        i += 3\n",
    "    \n",
    "    if(protein_index1 > 0):\n",
    "        fout.write('\\n')\n",
    "    fout.write(f\"{similarity_matrix[protein_index1, 0]}\")\n",
    "    for value in similarity_matrix[protein_index1, 1:] :\n",
    "        fout.write(f\",{value}\")\n",
    "    \n",
    "fout.close()\n",
    "driver.quit()  "
   ]
  },
  {
   "cell_type": "code",
   "execution_count": 9,
   "metadata": {},
   "outputs": [],
   "source": [
    "fin = open(\"../similarity.txt\")\n",
    "i = 0\n",
    "for line in fin:\n",
    "    temp_list = line.split(\",\")\n",
    "    for j in range(len(temp_list)):\n",
    "        similarity_matrix[i,j] = float(temp_list[j])\n",
    "    i += 1\n",
    "fin.close()"
   ]
  },
  {
   "cell_type": "code",
   "execution_count": 19,
   "metadata": {},
   "outputs": [],
   "source": [
    "# print(proteins)\n",
    "# print(proteins)\n",
    "# print(len(adj_list))"
   ]
  },
  {
   "cell_type": "code",
   "execution_count": 20,
   "metadata": {},
   "outputs": [],
   "source": [
    "fout = open('./datasets/protein_list.txt','w')\n",
    "for protein in proteins.keys():\n",
    "    fout.write(f\"{protein}\\n\")\n",
    "fout.close()"
   ]
  },
  {
   "cell_type": "code",
   "execution_count": 41,
   "metadata": {},
   "outputs": [],
   "source": [
    "num_v = len(proteins)\n",
    "k = 8\n",
    "v = np.arange(num_v)\n",
    "v_colors = [random.randint(0,k-1) for i in v]"
   ]
  },
  {
   "cell_type": "code",
   "execution_count": null,
   "metadata": {},
   "outputs": [],
   "source": [
    "# x = 0\n",
    "for protein in proteins.keys():\n",
    "#     x += 1\n",
    "#     if x%5 == 0 :\n",
    "#         print(x)\n",
    "    url = 'http://www.yeastract.com/view.php?existing=protein&proteinname=' + protein\n",
    "    html_content = str(urlopen(url).read())\n",
    "    matches = re.findall('Transcription&nbsp;Factor', html_content)\n",
    "    if len(matches) > 0:\n",
    "        transcription_factors.append(protein)\n",
    "        # print(protein, 'T')\n",
    "    matches = re.findall('receptor', html_content)\n",
    "    if len(matches) > 0:\n",
    "        receptors.append(protein)\n",
    "        # print(protein, 'R')\n",
    "\n",
    "# print(transcription_factors)"
   ]
  },
  {
   "cell_type": "code",
   "execution_count": 16,
   "metadata": {},
   "outputs": [],
   "source": [
    "f = open(\"transcriptors.txt\", \"w\")\n",
    "for t in transcription_factors:\n",
    "    f.write(t + \"\\n\")\n",
    "f.close()\n",
    "\n",
    "f = open(\"receptors.txt\", \"w\")\n",
    "for r in receptors:\n",
    "    f.write(r + \"\\n\")\n",
    "f.close()"
   ]
  },
  {
   "cell_type": "code",
   "execution_count": 26,
   "metadata": {},
   "outputs": [],
   "source": [
    "fin = open(\"transcriptors.txt\")\n",
    "for protein in fin:\n",
    "    transcription_factors.append(proteins[protein.split(\"\\n\")[0]])\n",
    "fin.close()\n",
    "\n",
    "fin = open(\"receptors.txt\")\n",
    "for protein in fin:\n",
    "    receptors.append(proteins[protein.split(\"\\n\")[0]])\n",
    "fin.close()"
   ]
  },
  {
   "cell_type": "code",
   "execution_count": 61,
   "metadata": {},
   "outputs": [],
   "source": [
    "def dfs(transcription_factors, adj_list, edge_probs, v_colors, visited_colors, next_in_path, num_visited_colors, u, k, max_length, curr_length):\n",
    "    visited_colors[v_colors[u]] = 1\n",
    "    num_visited_colors += 1\n",
    "    if(num_visited_colors == k and u in transcription_factors and curr_length > max_length[0]):\n",
    "        max_length[0] = curr_length\n",
    "        return True\n",
    "    \n",
    "    flag = False\n",
    "\n",
    "    j = -1\n",
    "    for v in adj_list[u]:\n",
    "        j += 1\n",
    "        if(visited_colors[v_colors[v]] == 1):\n",
    "            continue\n",
    "        flag = dfs(transcription_factors, adj_list, edge_probs, v_colors, visited_colors, next_in_path, num_visited_colors, v, k, max_length, curr_length + edge_probs[u][j])\n",
    "        if(flag):\n",
    "            next_in_path[u] = v\n",
    "    \n",
    "    visited_colors[v_colors[u]] = 0\n",
    "    num_visited_colors -= 1\n",
    "\n",
    "    return flag "
   ]
  },
  {
   "cell_type": "code",
   "execution_count": 62,
   "metadata": {},
   "outputs": [],
   "source": [
    "def get_best_pathway(receptors, transcription_factors, adj_list, edge_probs, v_colors, k):\n",
    "    curr_max = 0\n",
    "    curr_start_vertex = 0\n",
    "    num_vertices = len(v_colors)\n",
    "    next_in_path = [0] * num_vertices\n",
    "    for u in receptors:\n",
    "        max_length = [0]\n",
    "        visited_colors = [0] * num_vertices\n",
    "        dfs(transcription_factors, adj_list, edge_probs, v_colors, visited_colors, next_in_path, 0, u, k, max_length, 0)\n",
    "        if(max_length[0] > curr_max):\n",
    "            curr_max = max_length[0]\n",
    "            curr_start_vertex = u\n",
    "    \n",
    "    best_path = []\n",
    "    temp_node = curr_start_vertex\n",
    "    for i in range(k):\n",
    "        best_path.append(temp_node)\n",
    "        temp_node = next_in_path[temp_node]\n",
    "    \n",
    "    return best_path, curr_max"
   ]
  },
  {
   "cell_type": "code",
   "execution_count": 63,
   "metadata": {},
   "outputs": [],
   "source": [
    "best_path, max_score = get_best_pathway(receptors, transcription_factors, adj_list, edge_len, v_colors, k)"
   ]
  },
  {
   "cell_type": "code",
   "execution_count": 65,
   "metadata": {},
   "outputs": [
    {
     "name": "stdout",
     "output_type": "stream",
     "text": [
      "9588 [5026, 4983, 4605]\n"
     ]
    }
   ],
   "source": [
    "print(max_score, best_path)"
   ]
  },
  {
   "cell_type": "code",
   "execution_count": null,
   "metadata": {},
   "outputs": [],
   "source": []
  }
 ],
 "metadata": {
  "kernelspec": {
   "display_name": "Python 3 (ipykernel)",
   "language": "python",
   "name": "python3"
  },
  "language_info": {
   "codemirror_mode": {
    "name": "ipython",
    "version": 3
   },
   "file_extension": ".py",
   "mimetype": "text/x-python",
   "name": "python",
   "nbconvert_exporter": "python",
   "pygments_lexer": "ipython3",
   "version": "3.9.7"
  }
 },
 "nbformat": 4,
 "nbformat_minor": 2
}
